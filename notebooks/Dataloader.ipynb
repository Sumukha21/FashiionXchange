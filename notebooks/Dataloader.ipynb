{
  "nbformat": 4,
  "nbformat_minor": 0,
  "metadata": {
    "colab": {
      "provenance": [],
      "mount_file_id": "12fCR6Viv-460eS0OJkDoY4yqojPEsUAV",
      "authorship_tag": "ABX9TyMruMngo+879oKJZLyXdj5G",
      "include_colab_link": true
    },
    "kernelspec": {
      "name": "python3",
      "display_name": "Python 3"
    },
    "language_info": {
      "name": "python"
    }
  },
  "cells": [
    {
      "cell_type": "markdown",
      "metadata": {
        "id": "view-in-github",
        "colab_type": "text"
      },
      "source": [
        "<a href=\"https://colab.research.google.com/github/Sumukha21/FashionXchange/blob/main/notebooks/Dataloader.ipynb\" target=\"_parent\"><img src=\"https://colab.research.google.com/assets/colab-badge.svg\" alt=\"Open In Colab\"/></a>"
      ]
    },
    {
      "cell_type": "code",
      "execution_count": 2,
      "metadata": {
        "id": "cpsMiyvJY7Id"
      },
      "outputs": [],
      "source": [
        "import os\n",
        "import pandas as pd\n",
        "from PIL import Image\n",
        "import torch\n",
        "from torch.utils.data import Dataset, DataLoader\n",
        "from torchvision import transforms"
      ]
    },
    {
      "cell_type": "code",
      "source": [
        "with open(\"/content/drive/Shareddrives/Fashion-Xchange/captions.txt\", \"r\") as file:\n",
        "    lines = file.readlines()\n",
        "\n",
        "# Initialize an empty dictionary to store the results\n",
        "image_captions = {}\n",
        "\n",
        "# Iterate over the lines, skipping the first line\n",
        "for line in lines[1:]:\n",
        "    # Split the line by comma\n",
        "    parts = line.strip().split(\",\")\n",
        "    # Extract the image name and caption\n",
        "    image_name = parts[0].strip()\n",
        "    caption = \",\".join(parts[1:]).strip()\n",
        "    # Add the image name and caption to the dictionary\n",
        "    image_captions[image_name] = caption\n",
        "cnt = 1\n",
        "for image, caption in image_captions.items():\n",
        "    print(f\"{image}: {caption}\")\n",
        "    cnt+=1\n",
        "    if cnt>3:\n",
        "      break"
      ],
      "metadata": {
        "colab": {
          "base_uri": "https://localhost:8080/"
        },
        "id": "gX4Sl_OiotF0",
        "outputId": "846fb52f-9218-401d-af05-697d5f12e5c4"
      },
      "execution_count": 13,
      "outputs": [
        {
          "output_type": "stream",
          "name": "stdout",
          "text": [
            "1000092795.jpg: Two friends enjoy time spent together .\n",
            "10002456.jpg: Three men on a large rig .\n",
            "1000268201.jpg: A girl going into a wooden building .\n"
          ]
        }
      ]
    },
    {
      "cell_type": "code",
      "source": [
        "print(len(image_captions.keys()))"
      ],
      "metadata": {
        "colab": {
          "base_uri": "https://localhost:8080/"
        },
        "id": "rmSaZX7Jve0P",
        "outputId": "98fc02ae-0036-47e5-fdaf-711e9ee07458"
      },
      "execution_count": 14,
      "outputs": [
        {
          "output_type": "stream",
          "name": "stdout",
          "text": [
            "31783\n"
          ]
        }
      ]
    },
    {
      "cell_type": "code",
      "source": [
        "class CustomDataset(Dataset):\n",
        "    def __init__(self, image_captions, image_dir, transform=None):\n",
        "        self.image_captions = image_captions\n",
        "        self.image_dir = image_dir\n",
        "        self.transform = transform\n",
        "\n",
        "        # Get list of image paths\n",
        "        self.image_paths = [os.path.join(image_dir, img_name) for img_name in self.image_captions.keys()]\n",
        "\n",
        "    def __len__(self):\n",
        "        return len(self.image_captions)\n",
        "\n",
        "    def __getitem__(self, idx):\n",
        "        img_path = self.image_paths[idx]\n",
        "        image = Image.open(img_path).convert('RGB')\n",
        "\n",
        "        caption = self.image_captions[os.path.basename(img_path)]\n",
        "\n",
        "        if self.transform:\n",
        "            image = self.transform(image)\n",
        "\n",
        "        return image, caption\n",
        "\n",
        "# Define transforms\n",
        "transform = transforms.Compose([\n",
        "    transforms.Resize((256, 256)),\n",
        "    transforms.ToTensor(),\n",
        "])\n",
        "\n",
        "# Directory containing images\n",
        "image_dir = \"/content/drive/Shareddrives/Fashion-Xchange/flickr30k-images\"\n",
        "\n",
        "# Create dataset\n",
        "dataset = CustomDataset(image_captions=image_captions, image_dir=image_dir, transform=transform)\n",
        "\n",
        "# Create DataLoader\n",
        "data_loader = DataLoader(dataset, batch_size=1, shuffle=True)\n",
        "\n",
        "# Test DataLoader\n",
        "for images, captions in data_loader:\n",
        "    print(\"Caption:\", captions)\n",
        "    # You can use images for further processing if needed"
      ],
      "metadata": {
        "id": "_PGwSyLyuo9a"
      },
      "execution_count": null,
      "outputs": []
    }
  ]
}