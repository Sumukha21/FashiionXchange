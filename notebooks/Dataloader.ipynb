{
  "cells": [
    {
      "cell_type": "code",
      "execution_count": 7,
      "metadata": {
        "id": "cpsMiyvJY7Id"
      },
      "outputs": [],
      "source": [
        "import os\n",
        "import pandas as pd\n",
        "from PIL import Image\n",
        "import torch\n",
        "from torch.utils.data import Dataset, DataLoader\n",
        "from torchvision import transforms\n",
        "import matplotlib.pyplot as plt"
      ]
    },
    {
      "cell_type": "code",
      "execution_count": 2,
      "metadata": {
        "colab": {
          "base_uri": "https://localhost:8080/"
        },
        "id": "gX4Sl_OiotF0",
        "outputId": "caa352bb-129a-4430-a2ae-d5197b8f4f92"
      },
      "outputs": [
        {
          "name": "stdout",
          "output_type": "stream",
          "text": [
            "1000092795.jpg: Two young guys with shaggy hair look at their hands while hanging out in the yard .\n",
            "10002456.jpg: Several men in hard hats are operating a giant pulley system .\n",
            "1000268201.jpg: A child in a pink dress is climbing up a set of stairs in an entry way .\n",
            "1000344755.jpg: Someone in a blue shirt and hat is standing on stair and leaning against a window .\n"
          ]
        }
      ],
      "source": [
        "with open(\"/Users/karthikganapathisubramanian/Downloads/captions.txt\", \"r\") as file:\n",
        "    lines = file.readlines()\n",
        "\n",
        "# Initialize an empty dictionary to store the results\n",
        "image_captions = {}\n",
        "\n",
        "# Iterate over the lines, skipping the first line\n",
        "for line in lines[1:]:\n",
        "    # Split the line by comma\n",
        "    parts = line.strip().split(\",\")\n",
        "    # Extract the image name and caption\n",
        "    image_name = parts[0].strip()\n",
        "    caption = \",\".join(parts[1:]).strip()\n",
        "    # Add the image name and caption to the dictionary\n",
        "    if image_name not in image_captions.keys():\n",
        "      image_captions[image_name] = caption\n",
        "cnt = 1\n",
        "for image, caption in image_captions.items():\n",
        "    print(f\"{image}: {caption}\")\n",
        "    cnt+=1\n",
        "    if cnt>4:\n",
        "      break"
      ]
    },
    {
      "cell_type": "code",
      "execution_count": 3,
      "metadata": {
        "colab": {
          "base_uri": "https://localhost:8080/",
          "height": 35
        },
        "id": "oocXEPDfycEX",
        "outputId": "ba04de33-3a6d-4bbf-f23d-c95bfb53e447"
      },
      "outputs": [
        {
          "data": {
            "text/plain": [
              "'Two young guys with shaggy hair look at their hands while hanging out in the yard .'"
            ]
          },
          "execution_count": 3,
          "metadata": {},
          "output_type": "execute_result"
        }
      ],
      "source": [
        "image_captions[\"1000092795.jpg\"]"
      ]
    },
    {
      "cell_type": "code",
      "execution_count": 4,
      "metadata": {
        "colab": {
          "base_uri": "https://localhost:8080/"
        },
        "id": "rmSaZX7Jve0P",
        "outputId": "1bc57a81-65b5-4506-f027-29e51a5b0b09"
      },
      "outputs": [
        {
          "name": "stdout",
          "output_type": "stream",
          "text": [
            "31783\n"
          ]
        }
      ],
      "source": [
        "print(len(image_captions.keys()))"
      ]
    },
    {
      "cell_type": "code",
      "execution_count": 9,
      "metadata": {
        "id": "_PGwSyLyuo9a"
      },
      "outputs": [
        {
          "name": "stdout",
          "output_type": "stream",
          "text": [
            "Caption: ('Motorcycle riders enjoy a sunny day on the road .',)\n"
          ]
        }
      ],
      "source": [
        "class CustomDataset(Dataset):\n",
        "    def __init__(self, image_captions, image_dir, transform=None):\n",
        "        self.image_captions = image_captions\n",
        "        self.image_dir = image_dir\n",
        "        self.transform = transform\n",
        "\n",
        "        # Get list of image paths\n",
        "        self.image_paths = [os.path.join(image_dir, img_name) for img_name in self.image_captions.keys()]\n",
        "\n",
        "    def __len__(self):\n",
        "        return len(self.image_captions)\n",
        "\n",
        "    def __getitem__(self, idx):\n",
        "        img_path = self.image_paths[idx]\n",
        "        image = Image.open(img_path).convert('RGB')\n",
        "\n",
        "        caption = self.image_captions[os.path.basename(img_path)]\n",
        "\n",
        "        if self.transform:\n",
        "            image = self.transform(image)\n",
        "\n",
        "        return image, caption\n",
        "\n",
        "# Define transforms\n",
        "transform = transforms.Compose([\n",
        "    transforms.Resize((256, 256)),\n",
        "    transforms.ToTensor(),\n",
        "])\n",
        "\n",
        "# Directory containing images\n",
        "image_dir = \"/Users/karthikganapathisubramanian/Downloads/flickr30k-images\"\n",
        "\n",
        "# Create dataset\n",
        "dataset = CustomDataset(image_captions=image_captions, image_dir=image_dir, transform=transform)\n",
        "\n",
        "# Create DataLoader\n",
        "data_loader = DataLoader(dataset, batch_size=1, shuffle=True)\n",
        "\n",
        "# Test DataLoader\n",
        "for images, captions in data_loader:\n",
        "    print(\"Caption:\", captions)\n",
        "    break\n",
        "    # You can use images for further processing if needed"
      ]
    }
  ],
  "metadata": {
    "colab": {
      "provenance": []
    },
    "kernelspec": {
      "display_name": "Python 3",
      "name": "python3"
    },
    "language_info": {
      "codemirror_mode": {
        "name": "ipython",
        "version": 3
      },
      "file_extension": ".py",
      "mimetype": "text/x-python",
      "name": "python",
      "nbconvert_exporter": "python",
      "pygments_lexer": "ipython3",
      "version": "3.10.10"
    }
  },
  "nbformat": 4,
  "nbformat_minor": 0
}
