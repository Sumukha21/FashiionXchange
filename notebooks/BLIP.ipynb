{
  "nbformat": 4,
  "nbformat_minor": 0,
  "metadata": {
    "colab": {
      "provenance": [],
      "gpuType": "T4"
    },
    "kernelspec": {
      "name": "python3",
      "display_name": "Python 3"
    },
    "language_info": {
      "name": "python"
    },
    "accelerator": "GPU"
  },
  "cells": [
    {
      "cell_type": "code",
      "source": [
        " !pip install accelerate"
      ],
      "metadata": {
        "id": "vXQcFYr7IfMj"
      },
      "execution_count": null,
      "outputs": []
    },
    {
      "cell_type": "code",
      "execution_count": null,
      "metadata": {
        "id": "7YYVzNnH6f_5"
      },
      "outputs": [],
      "source": [
        "import requests\n",
        "import os\n",
        "import json\n",
        "from PIL import Image\n",
        "from transformers import Blip2Processor, Blip2ForConditionalGeneration\n",
        "\n",
        "processor = Blip2Processor.from_pretrained(\"Salesforce/blip2-opt-2.7b\")\n",
        "model = Blip2ForConditionalGeneration.from_pretrained(\"Salesforce/blip2-opt-2.7b\", device_map=\"auto\")\n"
      ]
    },
    {
      "cell_type": "code",
      "source": [
        "image_dir = \"/content/drive/Shareddrives/Fashion-Xchange/IMAGES\"\n",
        "files = os.listdir(image_dir)\n",
        "image_captions = {}\n",
        "for file_name in files:\n",
        "  img_url = os.path.join(image_dir, file_name)\n",
        "  raw_image = Image.open(img_url).convert('RGB')\n",
        "  inputs = processor(raw_image, return_tensors=\"pt\").to(\"cuda\")\n",
        "  out = model.generate(**inputs)\n",
        "  caption = processor.decode(out[0], skip_special_tokens=True)\n",
        "  image_captions[file_name] = caption.strip('\\n')\n",
        "\n",
        "file_path = \"/content/drive/Shareddrives/Fashion-Xchange/1000IMAGES_dict.json\"\n",
        "with open(file_path, \"w\") as json_file:\n",
        "    json.dump(image_captions, json_file)\n"
      ],
      "metadata": {
        "id": "8zJRPKztHU-6"
      },
      "execution_count": null,
      "outputs": []
    },
    {
      "cell_type": "code",
      "source": [],
      "metadata": {
        "id": "rD0ybn2WKnE8"
      },
      "execution_count": null,
      "outputs": []
    }
  ]
}