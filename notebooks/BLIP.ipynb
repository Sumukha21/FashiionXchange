{
  "cells": [
    {
      "cell_type": "code",
      "execution_count": 1,
      "metadata": {
        "id": "vXQcFYr7IfMj"
      },
      "outputs": [],
      "source": [
        "#  !pip install accelerate"
      ]
    },
    {
      "cell_type": "code",
      "execution_count": 1,
      "metadata": {
        "id": "7YYVzNnH6f_5"
      },
      "outputs": [
        {
          "name": "stderr",
          "output_type": "stream",
          "text": [
            "c:\\Users\\kganapa\\.conda\\envs\\FashionXchange\\lib\\site-packages\\tqdm\\auto.py:21: TqdmWarning: IProgress not found. Please update jupyter and ipywidgets. See https://ipywidgets.readthedocs.io/en/stable/user_install.html\n",
            "  from .autonotebook import tqdm as notebook_tqdm\n",
            "Loading checkpoint shards: 100%|██████████| 2/2 [00:17<00:00,  8.88s/it]\n"
          ]
        }
      ],
      "source": [
        "import requests\n",
        "import os\n",
        "import json\n",
        "from PIL import Image\n",
        "from transformers import Blip2Processor, Blip2ForConditionalGeneration\n",
        "\n",
        "processor = Blip2Processor.from_pretrained(\"Salesforce/blip2-opt-2.7b\")\n",
        "model = Blip2ForConditionalGeneration.from_pretrained(\"Salesforce/blip2-opt-2.7b\", device_map=\"auto\")\n"
      ]
    },
    {
      "cell_type": "code",
      "execution_count": 5,
      "metadata": {},
      "outputs": [],
      "source": [
        "from tqdm import tqdm"
      ]
    },
    {
      "cell_type": "code",
      "execution_count": 7,
      "metadata": {
        "id": "8zJRPKztHU-6"
      },
      "outputs": [
        {
          "name": "stderr",
          "output_type": "stream",
          "text": [
            "  0%|          | 0/2667 [00:00<?, ?it/s]"
          ]
        },
        {
          "name": "stderr",
          "output_type": "stream",
          "text": [
            "c:\\Users\\kganapa\\.conda\\envs\\FashionXchange\\lib\\site-packages\\transformers\\generation\\utils.py:1133: UserWarning: Using the model-agnostic default `max_length` (=20) to control the generation length. We recommend setting `max_new_tokens` to control the maximum length of the generation.\n",
            "  warnings.warn(\n",
            "100%|██████████| 2667/2667 [36:06<00:00,  1.23it/s]\n"
          ]
        }
      ],
      "source": [
        "image_dir = r\"C:\\Users\\kganapa\\Desktop\\FashionXchange\\images2\\images\"\n",
        "files = os.listdir(image_dir)\n",
        "image_captions = {}\n",
        "for file_name in tqdm(files):\n",
        "  img_url = os.path.join(image_dir, file_name)\n",
        "  raw_image = Image.open(img_url).convert('RGB')\n",
        "  inputs = processor(raw_image, return_tensors=\"pt\").to(\"cuda\")\n",
        "  out = model.generate(**inputs)\n",
        "  caption = processor.decode(out[0], skip_special_tokens=True)\n",
        "  image_captions[file_name] = caption.strip('\\n')\n",
        "\n",
        "file_path = r\"C:\\Users\\kganapa\\Desktop\\FashionXchange\\2667_IMAGES_dict.json\"\n",
        "with open(file_path, \"w\") as json_file:\n",
        "    json.dump(image_captions, json_file)\n"
      ]
    },
    {
      "cell_type": "code",
      "execution_count": null,
      "metadata": {
        "id": "rD0ybn2WKnE8"
      },
      "outputs": [],
      "source": []
    }
  ],
  "metadata": {
    "accelerator": "GPU",
    "colab": {
      "gpuType": "T4",
      "provenance": []
    },
    "kernelspec": {
      "display_name": "Python 3",
      "name": "python3"
    },
    "language_info": {
      "codemirror_mode": {
        "name": "ipython",
        "version": 3
      },
      "file_extension": ".py",
      "mimetype": "text/x-python",
      "name": "python",
      "nbconvert_exporter": "python",
      "pygments_lexer": "ipython3",
      "version": "3.10.0"
    }
  },
  "nbformat": 4,
  "nbformat_minor": 0
}
